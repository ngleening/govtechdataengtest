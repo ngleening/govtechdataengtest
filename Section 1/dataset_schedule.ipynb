{
 "cells": [
  {
   "cell_type": "markdown",
   "metadata": {},
   "source": [
    "## Import libraries"
   ]
  },
  {
   "cell_type": "code",
   "execution_count": 16,
   "metadata": {},
   "outputs": [],
   "source": [
    "import pandas as pd\n",
    "import numpy as np"
   ]
  },
  {
   "cell_type": "markdown",
   "metadata": {},
   "source": [
    "## Read in dataset"
   ]
  },
  {
   "cell_type": "code",
   "execution_count": 52,
   "metadata": {},
   "outputs": [],
   "source": [
    "df = pd.read_csv('dataset.csv')"
   ]
  },
  {
   "cell_type": "markdown",
   "metadata": {},
   "source": [
    "## Process tasks"
   ]
  },
  {
   "cell_type": "code",
   "execution_count": 53,
   "metadata": {},
   "outputs": [],
   "source": [
    "# Delete any rows which do not have a name\n",
    "df['name'].replace('', np.nan, inplace=True)\n",
    "df.dropna(subset=['name'], inplace=True)"
   ]
  },
  {
   "cell_type": "code",
   "execution_count": 54,
   "metadata": {},
   "outputs": [
    {
     "data": {
      "text/html": [
       "<div>\n",
       "<style scoped>\n",
       "    .dataframe tbody tr th:only-of-type {\n",
       "        vertical-align: middle;\n",
       "    }\n",
       "\n",
       "    .dataframe tbody tr th {\n",
       "        vertical-align: top;\n",
       "    }\n",
       "\n",
       "    .dataframe thead th {\n",
       "        text-align: right;\n",
       "    }\n",
       "</style>\n",
       "<table border=\"1\" class=\"dataframe\">\n",
       "  <thead>\n",
       "    <tr style=\"text-align: right;\">\n",
       "      <th></th>\n",
       "      <th>price</th>\n",
       "      <th>first_name</th>\n",
       "      <th>last_name</th>\n",
       "      <th>above_100</th>\n",
       "    </tr>\n",
       "  </thead>\n",
       "  <tbody>\n",
       "    <tr>\n",
       "      <th>0</th>\n",
       "      <td>109.037280</td>\n",
       "      <td>William</td>\n",
       "      <td>Dixon</td>\n",
       "      <td>True</td>\n",
       "    </tr>\n",
       "    <tr>\n",
       "      <th>1</th>\n",
       "      <td>262.524652</td>\n",
       "      <td>Kristen</td>\n",
       "      <td>Horn</td>\n",
       "      <td>True</td>\n",
       "    </tr>\n",
       "    <tr>\n",
       "      <th>2</th>\n",
       "      <td>187.007258</td>\n",
       "      <td>Kimberly</td>\n",
       "      <td>Chang</td>\n",
       "      <td>True</td>\n",
       "    </tr>\n",
       "    <tr>\n",
       "      <th>3</th>\n",
       "      <td>283.174648</td>\n",
       "      <td>Mary</td>\n",
       "      <td>Ball</td>\n",
       "      <td>True</td>\n",
       "    </tr>\n",
       "    <tr>\n",
       "      <th>4</th>\n",
       "      <td>143.871582</td>\n",
       "      <td>Benjamin</td>\n",
       "      <td>Craig</td>\n",
       "      <td>True</td>\n",
       "    </tr>\n",
       "    <tr>\n",
       "      <th>...</th>\n",
       "      <td>...</td>\n",
       "      <td>...</td>\n",
       "      <td>...</td>\n",
       "      <td>...</td>\n",
       "    </tr>\n",
       "    <tr>\n",
       "      <th>9995</th>\n",
       "      <td>95.253955</td>\n",
       "      <td>Rachel</td>\n",
       "      <td>Davis</td>\n",
       "      <td>False</td>\n",
       "    </tr>\n",
       "    <tr>\n",
       "      <th>9996</th>\n",
       "      <td>205.396685</td>\n",
       "      <td>Connie</td>\n",
       "      <td>Hamilton</td>\n",
       "      <td>True</td>\n",
       "    </tr>\n",
       "    <tr>\n",
       "      <th>9997</th>\n",
       "      <td>80.547371</td>\n",
       "      <td>Sean</td>\n",
       "      <td>Kaiser</td>\n",
       "      <td>False</td>\n",
       "    </tr>\n",
       "    <tr>\n",
       "      <th>9998</th>\n",
       "      <td>93.205616</td>\n",
       "      <td>Ebony</td>\n",
       "      <td>Rodriguez</td>\n",
       "      <td>False</td>\n",
       "    </tr>\n",
       "    <tr>\n",
       "      <th>9999</th>\n",
       "      <td>297.046886</td>\n",
       "      <td>Gregg</td>\n",
       "      <td>Alexander</td>\n",
       "      <td>True</td>\n",
       "    </tr>\n",
       "  </tbody>\n",
       "</table>\n",
       "<p>10000 rows × 4 columns</p>\n",
       "</div>"
      ],
      "text/plain": [
       "           price first_name  last_name  above_100\n",
       "0     109.037280    William      Dixon       True\n",
       "1     262.524652    Kristen       Horn       True\n",
       "2     187.007258   Kimberly      Chang       True\n",
       "3     283.174648       Mary       Ball       True\n",
       "4     143.871582   Benjamin      Craig       True\n",
       "...          ...        ...        ...        ...\n",
       "9995   95.253955     Rachel      Davis      False\n",
       "9996  205.396685     Connie   Hamilton       True\n",
       "9997   80.547371       Sean     Kaiser      False\n",
       "9998   93.205616      Ebony  Rodriguez      False\n",
       "9999  297.046886      Gregg  Alexander       True\n",
       "\n",
       "[10000 rows x 4 columns]"
      ]
     },
     "execution_count": 54,
     "metadata": {},
     "output_type": "execute_result"
    }
   ],
   "source": [
    "# Split the name field into first_name, and last_name\n",
    "first_name_arr = []\n",
    "last_name_arr = []\n",
    "above_100_arr = []\n",
    "for index, row in df.iterrows():\n",
    "    name_arr = row['name'].split()\n",
    "    for name_part in name_arr:\n",
    "        # Remove salutations\n",
    "        if \".\" in name_part:\n",
    "            name_arr.remove(name_part)\n",
    "        # Split into first and second names\n",
    "        # Can ignore names at the end e.g. 'DDS', 'MD' since they are not important\n",
    "    first_name_arr.append(name_arr[0])\n",
    "    last_name_arr.append(name_arr[1])\n",
    "    \n",
    "    # Remove any zeros prepended to the price field\n",
    "    price = float(str(row['price']).strip(\"0\"))\n",
    "    \n",
    "    # Create a new field named above_100, which is true if the price is strictly greater than 100\n",
    "    if (price > 100):\n",
    "        above_100_arr.append(True)\n",
    "    else:\n",
    "        above_100_arr.append(False)\n",
    "\n",
    "# Edit dataset\n",
    "df['first_name'] = first_name_arr\n",
    "df['last_name'] = last_name_arr\n",
    "df['above_100'] = above_100_arr\n",
    "df = df.drop('name', 1)\n",
    "df"
   ]
  },
  {
   "cell_type": "markdown",
   "metadata": {},
   "source": [
    "## Export dataset"
   ]
  },
  {
   "cell_type": "code",
   "execution_count": 57,
   "metadata": {},
   "outputs": [],
   "source": [
    "# Drop index so we don't export it\n",
    "df = df.reset_index()\n",
    "df = df.drop(['index'], axis=1)\n",
    "\n",
    "# Export to csv\n",
    "df.to_csv('new_dataset.csv', index=False)"
   ]
  },
  {
   "cell_type": "code",
   "execution_count": null,
   "metadata": {},
   "outputs": [],
   "source": []
  }
 ],
 "metadata": {
  "kernelspec": {
   "display_name": "Python 3",
   "language": "python",
   "name": "python3"
  },
  "language_info": {
   "codemirror_mode": {
    "name": "ipython",
    "version": 3
   },
   "file_extension": ".py",
   "mimetype": "text/x-python",
   "name": "python",
   "nbconvert_exporter": "python",
   "pygments_lexer": "ipython3",
   "version": "3.7.6"
  }
 },
 "nbformat": 4,
 "nbformat_minor": 4
}
